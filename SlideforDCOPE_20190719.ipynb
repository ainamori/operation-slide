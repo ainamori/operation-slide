{
 "cells": [
  {
   "cell_type": "markdown",
   "metadata": {
    "slideshow": {
     "slide_type": "slide"
    }
   },
   "source": [
    "# 運用エンジニア・オペレータ勉強会\n",
    "\n",
    "##  障害/インシデント事例紹介\n",
    "\n",
    "### 稲森　景（Akira Inamori <ainamori@iij.ad.jp>\n"
   ]
  },
  {
   "cell_type": "markdown",
   "metadata": {
    "slideshow": {
     "slide_type": "slide"
    }
   },
   "source": [
    "## 主な職務経歴\n",
    "\n",
    "- 2008年 IIJ入社\n",
    "- 2015年2月 IIJ America Inc. 出向\n",
    "- 2019年4月 IIJ 帰任\n",
    "\n",
    "## 主な業務内容\n",
    "\n",
    "<table>\n",
    "    <tr>\n",
    "        <td>\n",
    "            <p><img src=\"https://www.ntt.com/content/nttcom/hq/jp/business/services/data-center/colocation/nexcenter/virtual-tours/malaysia-cyberjaya-4/_jcr_content/par01/componentlayoutareac_6/ComponentLayoutAreaColoredBorderLinePar/txtimgl_1/image1.img.png/1537248847952.png\" alt=\"NOC作業\" width=\"30%\" height=\"30%\"/></p>\n",
    "        </td>\n",
    "        <td>\n",
    "            <p><img src=\"https://4.bp.blogspot.com/-OtfkvQ6YhEI/V5XczoV8lOI/AAAAAAAA8uM/ks16au6Xssw78rdg9F6VDRhv6naz2jqlgCLcB/s400/job_it_dokata.png\" alt=\"IT土方\" width=\"50%\" height=\"50%\"/></p> \n",
    "        </td>\n",
    "        <td>\n",
    "            <p><img src=\"https://1.bp.blogspot.com/-PYOsJAMddQI/WdyDTQ-OjQI/AAAAAAABHbU/wg8mS8AFANYaZOKreTrdJhPPUochYCkDQCLcBGAs/s180-c/character_program_shutdown.png\"/ alt=\"プログラミング\" ></p>\n",
    "        </td>\n",
    "    </tr>\n",
    "    </table>\n",
    "    \n",
    "\n",
    "\n"
   ]
  },
  {
   "cell_type": "raw",
   "metadata": {
    "slideshow": {
     "slide_type": "skip"
    }
   },
   "source": [
    "# 自己紹介\n",
    "\n",
    "簡単に経歴を紹介。\n",
    "2008年にIIJ入社以来、主に動画配信サービスを担当。\n",
    "その後2015年に諸般の事情でUS駐在員として出向。4年間をカリフォルニア/サンノゼ\n",
    "いわゆるシリコンバレーで過ごす\n",
    "\n",
    "### 主な業務内容\n",
    "\n",
    "4年間でやった仕事と言えば。\n",
    "\n",
    "- データセンタ作業\n",
    "- 現地SI作業/運用オペレーション\n",
    "- Webアプリ開発\n",
    "\n"
   ]
  },
  {
   "cell_type": "markdown",
   "metadata": {
    "slideshow": {
     "slide_type": "slide"
    }
   },
   "source": [
    "## 今回のお話\n",
    "\n",
    "### インシデント事例/障害事例\n",
    "\n",
    "- インシデント  【 incident 】 \n",
    " - 出来事、事件、事故、事案、事象、事例などの意味を持つ英単語。\n",
    "- 障害  【 failure 】  フォールト / fault\n",
    " - 物事が進むのを妨げること。また、妨げるもの。\n",
    " \n",
    "# In California (US).\n",
    "\n",
    "<table>\n",
    "    <tr>\n",
    "        <td>\n",
    "<p><img src=\"https://upload.wikimedia.org/wikipedia/commons/thumb/e/e2/Flag_of_the_United_States_%28Pantone%29.svg/292px-Flag_of_the_United_States_%28Pantone%29.svg.png\" /></p> \n",
    "        </td>\n",
    "<td>\n",
    "<p><img src=\"https://upload.wikimedia.org/wikipedia/commons/thumb/0/01/Flag_of_California.svg/195px-Flag_of_California.svg.png\" alt=\"Califonia\" /></p> \n",
    "        </td>\n",
    "    </tr>\n",
    "    </table>\n",
    "\n",
    "\n",
    "\n",
    "\n",
    "wikipedia\n",
    "\n",
    " "
   ]
  },
  {
   "cell_type": "raw",
   "metadata": {
    "slideshow": {
     "slide_type": "skip"
    }
   },
   "source": [
    "# 今回のお話\n",
    "\n",
    "インシデント・障害事例紹介。\n",
    "ということで我々が日常的に遭遇する事案について\n",
    "障害はともかくどのような物をインシデントとして取り上げるべきか念のため辞書を引いてみました。\n",
    "それがこちら。\n",
    "\n",
    "今回はUSでの経験談としてのインシデント・障害事例をいくつかご紹介いたします。"
   ]
  },
  {
   "cell_type": "markdown",
   "metadata": {
    "slideshow": {
     "slide_type": "slide"
    }
   },
   "source": [
    "# インシデント\n",
    "\n",
    "## アメリカで運用エンジニア（？）が遭遇する最も多いケース\n",
    "\n",
    "- 調達・納品調整\n",
    "- 日時調整\n",
    "- 設定ミス、設定漏れ\n",
    "\n",
    "## アメリカで運用エンジニア（？）が遭遇する最も少ないケース\n",
    "\n",
    "- 意思決定に対する待ち\n",
    "\n",
    "\n"
   ]
  },
  {
   "cell_type": "raw",
   "metadata": {
    "slideshow": {
     "slide_type": "skip"
    }
   },
   "source": [
    "# 冒頭\n",
    "\n",
    "アメリカでも日本でも運用エンジニアが行う仕事内容について大きな違いはありません。\n",
    "目標・納期に合わせてシステムを作り、滞りなく運用する。\n",
    "その為に必要となるプロセスは調達・構築・監視・保守と言った物がありますが\n",
    "これらの言葉や概念について説明が必要になることはありません。\n",
    "\n",
    "では、日本とアメリカで遭遇する事で最も多いケース\n",
    "少ないケースとは何でしょうか。それがこちらです。\n",
    "\n",
    "## 遭遇する最も多いケース\n",
    "\n",
    "- 調達・納品/日時調整\n",
    "  - アメリカは個人主義、職務分掌が明確、とも言いますが\n",
    "　　個人の責任範囲とそれ以外の範囲について明確に態度・対応が異なります。\n",
    "　　従って、納品・作業日時・内容については企業担当者では無く\n",
    "    当事者との間で明確に意思疎通ができていないと命取りになります。\n",
    "    こちらは具体的な事例をともにご紹介いたします。\n",
    "\n",
    "\n",
    "## 遭遇する最も少ないケース\n",
    "\n",
    "逆に言えば、意思決定の待ち時間が長い。ということは殆どありません。\n",
    "それぞれの担当が自分の範囲に対して権限を持っているため即答ができるのがアメリカのよいところです。\n",
    "ただし、「俺にはわからない。上位エンジニアにエスカレーションしろ」\n",
    "というようにすぐに「No」というのも特徴の一つ。\n",
    "従って、待機についても明確に指示を出さないと\n",
    "気づいたら作業に来ていたはずのエンジニアが業務完了前に帰ってしまう事すらあります。\n",
    "    "
   ]
  },
  {
   "cell_type": "markdown",
   "metadata": {
    "slideshow": {
     "slide_type": "slide"
    }
   },
   "source": [
    "### インシデント例1\n",
    "#### 事象\n",
    "\n",
    "時間になっても開始できない/時間内に終わらない\n",
    "\n",
    "#### 原因\n",
    "構築日に物が届かない/作業日に作業員が来ない\n",
    " \n",
    "<table>\n",
    "    <tr>\n",
    "        <td>\n",
    "<p><img src=\"https://4.bp.blogspot.com/-OIhyo6eeAqg/VZt5CBL8FUI/AAAAAAAAux8/Mq7-liXX-8I/s400/drone_haitatsu.png\"  width=\"20%\" height=\"20%\"/></p> \n",
    "        </td>\n",
    "        <td>\n",
    "<p><img src=\"http://4.bp.blogspot.com/-t6aXaVONsV4/Uf8zsenCxoI/AAAAAAAAWvg/nXkdSvAIkkY/s180-c/nebou_man.png\" width=\"50%\" height=\"50%\"/></p> \n",
    "        </td>\n",
    "\n",
    "<td>\n",
    "            <p><img src=\"http://4.bp.blogspot.com/-h0G_iPSXdmQ/VOsJ0xWRA8I/AAAAAAAArtw/DJYiHM5I0Ow/s180-c/syorui_hakobu_joushi.png\" alt=\"IT土方\"width=\"50%\" height=\"50%\"/></p> \n",
    "        </td>\n",
    "    </tr>\n",
    "    </table>\n",
    "\n",
    "#### 対策案\n",
    "祈る/プランBを用意しておく/作業員・アカウント担当の連絡先を確保しておく"
   ]
  },
  {
   "cell_type": "raw",
   "metadata": {
    "slideshow": {
     "slide_type": "skip"
    }
   },
   "source": [
    "# インシデント例1\n",
    "\n",
    "では、具体例を見てみましょう。\n",
    "時間通りに人・物が来ない。は日常茶飯事なので\n",
    "現場作業は常に緊張を強いられます。\n",
    "\n",
    "今回ご紹介する最も緊張したケースは\n",
    "シアトルへ出張した時の話です。\n",
    "我々はシアトルにもデータセンタを置き、バックボーン設備を有しているのですが\n",
    "シアトルにはオフィスが無いため、作業の際は出張作業となります。\n",
    "また、この時はリプレース作業を予定していた為、日本からも出張者が来て行う共同作業でした。\n",
    "\n",
    "・・・が、そのリプレース時に必要となるケーブルの収容変更を依頼した\n",
    "データセンタエンジニアの作業日確定（確約が）いつまで経っても来ません。\n",
    "アカウント担当とは定期的に打ち合わせを行っていることもあり\n",
    "1ヶ月以上前から予定を伝えているのにこのような有様。\n",
    "月曜作業だというのに前週の金曜でも連絡が来ないということで\n",
    "日本からの出張組には出張申請はおろかキャンセル通知すら危ぶまれる状況でした。\n",
    "幸い、土曜日に確定の回答が返ってきたので事なきを得ましたが\n",
    "言い換えれば土曜日にも関わらず連絡を取り続けなければならない、という事態だったという事になります。"
   ]
  },
  {
   "cell_type": "markdown",
   "metadata": {
    "slideshow": {
     "slide_type": "slide"
    }
   },
   "source": [
    "### インシデント例2\n",
    "\n",
    "#### 事象\n",
    "繋がらない（疎通が確認できない）/急に止まる（急に止めようとする）\n",
    "\n",
    "#### 原因\n",
    "設定漏れ・設定ミス/障害切り分け作業、復旧作業\n",
    "\n",
    "<table>\n",
    "    <tr>\n",
    "        <td>\n",
    "<p><img src=\"http://2.bp.blogspot.com/-JPa0Nzk_E8M/Vf-aIH2jsyI/AAAAAAAAyDc/2FG8dSNSk-k/s180-c/computer_girl.png\" width=\"50%\" height=\"50%\"/></p> \n",
    "        </td>\n",
    "        <td>\n",
    "<p><img src=\"https://4.bp.blogspot.com/-f2Q9rnakpmY/VVGVcGgV1XI/AAAAAAAAtlg/IBguVk9Q7Ks/s180-c/job_genba_kantoku.png\" width=\"50%\" height=\"50%\"/></p> \n",
    "        </td>\n",
    "</tr>\n",
    "\n",
    "</table>\n",
    "\n",
    "#### 対策案\n",
    "自分ならばどうするか？という作業内容を具体的に把握しておく/立ち会う/作業員・アカウント担当の連絡先を確保しておく"
   ]
  },
  {
   "cell_type": "raw",
   "metadata": {
    "slideshow": {
     "slide_type": "skip"
    }
   },
   "source": [
    "# インシデント例2\n",
    "\n",
    "こちらは設定漏れ・設定ミスのケース。\n",
    "こちらもUSでは日常茶飯事です。\n",
    "回線開通調整で「工事完了」という連絡が来たからといって\n",
    "それだけで信用することは決してできません。\n",
    "\n",
    "工事完了といいながら光すら来ていないこともあります。\n",
    "曰く「相手が繋がっていないから確認できなかった」ハードループを作って\n",
    "自分の担当範囲は万全だ、という確証を得てから工事完了する、という文化はありません。\n",
    "彼らの言う「工事完了」とは「工事完了したから確認してくれ、何か問題があったら連絡をくれ。即座に直すから」です。\n",
    "従って、Tx/Rxが逆、ということも日常茶飯事。\n",
    "VLAN IDが異なることで光は来ているが通信ができない、ということも日常的に発生します。\n",
    "\n",
    "この時の連絡は「光が来ていない・通信ができない」では通じず\n",
    "「この地点でハードループを作ってくれ、こちらはここまでハードループを作って正常であることを確認している」と伝えたり\n",
    "「こちらが要求しているVLAND IDはxxだ。そちらは同じようになっているか？」と聞く必要があります。\n",
    "先に情報をくれる、というケースも非常に少ないのです。"
   ]
  },
  {
   "cell_type": "markdown",
   "metadata": {
    "slideshow": {
     "slide_type": "slide"
    }
   },
   "source": [
    "### 障害事例1\n",
    "\n",
    "\n",
    "#### 事象\n",
    "作業をしたら他社のIP電話が使えなくなった\n",
    "\n",
    "#### 原因\n",
    "配線ミス\n",
    "\n",
    "<table>\n",
    "    <tr>\n",
    "        <td>\n",
    "<p><img src=\"https://1.bp.blogspot.com/-t7G_QwmamCs/V8jqb79GoNI/AAAAAAAA9fc/wFf8p0mENC4O5sccEL5hpSNyPDsTG--GgCLcB/s180-c/kouji_tokkankouji.png\" width=\"50%\" height=\"50%\"/></p>\n",
    "        </td>\n",
    "        <td>\n",
    "<p><img src=\"https://www.suttlesolutions.com/catalog/media/catalog/product/cache/1/image/9df78eab33525d08d6e5fb8d27136e95/6/2/625A28NKxx_6.jpg\"  width=\"20%\" height=\"20%\"/></p>\n",
    "        </td>\n",
    "</tr>\n",
    "</table>\n",
    "\n",
    "#### 対策案\n",
    "自分ならばどうするか？という作業内容を具体的に把握しておく/立ち会う/作業員・アカウント担当の連絡先を確保しておく"
   ]
  },
  {
   "cell_type": "raw",
   "metadata": {
    "slideshow": {
     "slide_type": "skip"
    }
   },
   "source": [
    "# 障害事例1\n",
    "\n",
    "続いて実際にそれらが障害に結びついたケースです。\n",
    "回線開通作業をした時のこと。USでは未だT1回線を使われているケースが多く存在します。\n",
    "従ってかなり低いレイヤでの問題も数多く発生。\n",
    "今回ご紹介する事例はレイヤ1の配線工事で発生しました。\n",
    "\n",
    "新たにT1回線を追加するということで工事が完了したというから現地に赴いたところ\n",
    "疎通はおろかリンクアップすらしない。加えて同一フロアの顧客からはIP電話が不通になったとの連絡。\n",
    "\n",
    "なぜかと思って切り分け作業を行った結果わかったことは混線によるものでした。\n",
    "T1回線は、RJ48のUTPケーブルを利用するのですが100M Ether同様、8本あるケーブルのうち4本しか通信には使用しません。\n",
    "RJ45/RJ48といったJackで受けるのが通常の我々は意識することが殆どありませんが\n",
    "ビルの配電盤は1本1本をネジ止めして固定するため、4本しか作業をしない事が殆どです。\n",
    "\n",
    "従って今回はこの4本が、既存のT1回線の”使われていない方の4本”に繋げてしまったために発生しました。"
   ]
  },
  {
   "cell_type": "markdown",
   "metadata": {
    "slideshow": {
     "slide_type": "slide"
    }
   },
   "source": [
    "### 障害事例2\n",
    "\n",
    "\n",
    "#### 事象\n",
    "オペレーションセグメント全断\n",
    "\n",
    "#### 原因\n",
    "ファイバーカット/解体対象のラックに設置されたPPからケーブルを引き抜いた\n",
    "\n",
    "<table>\n",
    "    <tr>\n",
    "        <td>\n",
    "<p><img src=\"https://2.bp.blogspot.com/-9PnRLyZJ-i4/W8hDn_gmIAI/AAAAAAABPeE/cMicCZ6f7hQB4bSK6LRS1ec0DMNW0ErYACLcBGAs/s180-c/cable_dansen_usb.png\" width=\"50%\" height=\"50%\"/></p>\n",
    "        </td>\n",
    "        <td>\n",
    "<p><img src=\"https://4.bp.blogspot.com/-6apuf4zJwoQ/WxvKGTFUveI/AAAAAAABMm0/SebNsibzmy0JNutXq1aSRN-gzE3QG6qngCLcBGAs/s180-c/job_cable_matomeru_assistant.png\"  width=\"50%\" height=\"50%\"/></p>\n",
    "        </td>\n",
    "</tr>\n",
    "</table>\n",
    "\n",
    "#### 対策案\n",
    "配線インベントリの管理/ケーブルのタグ付け/Enable/Disable識別子の設置/作業者・確認者によるオペレーション体制\n"
   ]
  },
  {
   "cell_type": "raw",
   "metadata": {
    "slideshow": {
     "slide_type": "skip"
    }
   },
   "source": [
    "# 障害事例2\n",
    "\n",
    "続いての障害事例は言葉としてはよく聞くファイバーカット。\n",
    "リプレースだと言っていざPPからケーブルを引き抜いた途端に\n",
    "アラートが発生し、連絡を受けたところ「通信が止まった」というもの。\n",
    "\n",
    "この手の作業はUSに限った話ではありませんが\n",
    "USの作業員、もしくは現地の雰囲気に慣れた人であればあるほど\n",
    "「とりあえずやってみて問題があったら戻す」という傾向が強い為、\n",
    "こういったケースは数多く発生します。\n",
    "迷ったら引き返す、というよりは\n",
    "「とりあえず任務は遂行する（Go）、\n",
    "　それで問題が起きたら指示を出した奴が悪い」というスタイルなので\n",
    " オペレータに指示を出す時は例えばLEDの点灯状況等は\n",
    " 「消えていることを確認してから抜去すること」と言った指示を\n",
    " 明確に出す必要があります。\n"
   ]
  },
  {
   "cell_type": "markdown",
   "metadata": {
    "slideshow": {
     "slide_type": "slide"
    }
   },
   "source": [
    "### USこぼれ話1\n",
    "\n",
    " - 購入したSMFケーブルが品質不良だった。\n",
    "  - 光の強度を計るも許容値に届かず。\n",
    "  - 別ベンダから調達して再出張する羽目に\n",
    "\n",
    " - 間に合うぜ！と言うから発注したらバックオーダー通知が来た。\n",
    "  - 届いたのは2ヶ月後。（なお、当時の求める納期は2週間）\n",
    "\n",
    " - バックオーダー品が納品されないと思ったら忘れ去られていた\n",
    "  - まだか？と問い合わせたら「ごめん、今から発送する」。"
   ]
  },
  {
   "cell_type": "markdown",
   "metadata": {
    "slideshow": {
     "slide_type": "slide"
    }
   },
   "source": [
    "### USこぼれ話2\n",
    "\n",
    "- 配達先がDC直送\n",
    "  - ある日トツゼンやってくるDCからの到着通知\n",
    "    - 当然、さっさと取りに来いと怒られる。\n",
    "\n",
    "\n",
    "- 待ち合わせの3時間以上早く来る「今どこだ？」連絡\n",
    "  - 前の仕事が早く終わったんだ。もう現地に居るけどおまえはどこに居るんだ？\n",
    "    - オフィスに決まってるだろ・・・\n",
    "      - そうか！早く来れないか！？\n",
    "      - 時間を守れ・・・\n",
    "      - もちろん、遅刻も同じような理由で発生する"
   ]
  }
 ],
 "metadata": {
  "celltoolbar": "Slideshow",
  "kernelspec": {
   "display_name": "Python 3",
   "language": "python",
   "name": "python3"
  },
  "language_info": {
   "codemirror_mode": {
    "name": "ipython",
    "version": 3
   },
   "file_extension": ".py",
   "mimetype": "text/x-python",
   "name": "python",
   "nbconvert_exporter": "python",
   "pygments_lexer": "ipython3",
   "version": "3.6.7"
  }
 },
 "nbformat": 4,
 "nbformat_minor": 4
}
